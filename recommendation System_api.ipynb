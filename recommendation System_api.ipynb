{
 "cells": [
  {
   "cell_type": "code",
   "execution_count": 1,
   "id": "57faf349-b575-459d-87fc-8f2023eebdf2",
   "metadata": {},
   "outputs": [
    {
     "name": "stdout",
     "output_type": "stream",
     "text": [
      "No of rows =  7824482\n",
      "No of columns =  3\n",
      "<class 'pandas.core.frame.DataFrame'>\n",
      "RangeIndex: 7824482 entries, 0 to 7824481\n",
      "Data columns (total 3 columns):\n",
      " #   Column   Dtype  \n",
      "---  ------   -----  \n",
      " 0   user_id  object \n",
      " 1   prod_id  object \n",
      " 2   rating   float64\n",
      "dtypes: float64(1), object(2)\n",
      "memory usage: 179.1+ MB\n"
     ]
    },
    {
     "data": {
      "image/png": "[encoded data removed]",
      "text/plain": [
       "<Figure size 1200x600 with 1 Axes>"
      ]
     },
     "metadata": {},
     "output_type": "display_data"
    },
    {
     "name": "stdout",
     "output_type": "stream",
     "text": [
      "Number of unique USERS in Raw data =  4201696\n",
      "Number of unique ITEMS in Raw data =  476002\n",
      "user_id\n",
      "A5JLAU2ARJ0BO     520\n",
      "ADLVFFE4VBT8      501\n",
      "A3OXHLG6DIBRW8    498\n",
      "A6FIAB28IS79      431\n",
      "A680RUE1FDO8B     406\n",
      "A1ODOGXEYECQQ8    380\n",
      "A36K2N527TXXJN    314\n",
      "A2AY4YUOX2N1BQ    311\n",
      "AWPODHOB4GFWL     308\n",
      "A25C2M3QF9G7OQ    296\n",
      "dtype: int64\n",
      "The number of observations in the final data = 125871\n",
      "Number of unique USERS in the final data = 1540\n",
      "Number of unique PRODUCTS in the final data = 48190\n",
      "Shape of final_ratings_matrix: (1540, 48190)\n",
      "Density: 0.17%\n",
      "            avg_rating  rating_count\n",
      "prod_id                             \n",
      "0594451647         5.0             1\n",
      "B003RRY9RS         5.0             1\n",
      "B003RR95Q8         5.0             1\n",
      "B003RIPMZU         5.0             1\n",
      "B003RFRNYQ         5.0             2\n",
      "['B001TH7GUU', 'B003ES5ZUU', 'B0019EHU8G', 'B006W8U2MU', 'B000QUUFRW']\n",
      "['B003ES5ZUU', 'B000N99BBC', 'B007WTAJTO', 'B002V88HFE', 'B004CLYEDC']\n",
      "[320, 12, 793, 261, 156, 1493, 1250, 567, 753, 1360]\n",
      "[991, 1065, 1012, 1402, 1371, 1278, 1518, 692, 785, 161]\n",
      "['B000CRFOMK', 'B000Z80ICM', 'B0071OSXYS', 'B0007A1IRC', 'B0013DXVYK']\n",
      "['B009O7XGCY', 'B005UA65YK', 'B007FZN53W', 'B008X9Z44M', 'B0076POAPS']\n",
      "\n",
      "Below are the recommended products for user(user_id = 121):\n",
      "\n",
      "Recommended Products\n",
      "28761    2.414390\n",
      "39003    1.521306\n",
      "41420    1.309224\n",
      "40158    1.200111\n",
      "33819    1.126866\n",
      "Name: user_predictions, dtype: float64\n",
      "\n",
      "Below are the recommended products for user(user_id = 100):\n",
      "\n",
      "Recommended Products\n",
      "11078    1.624746\n",
      "16159    1.132730\n",
      "10276    1.047888\n",
      "22210    0.955049\n",
      "18887    0.879705\n",
      "41618    0.854430\n",
      "45008    0.816153\n",
      "43419    0.803755\n",
      "28761    0.748799\n",
      "14791    0.748797\n",
      "Name: user_predictions, dtype: float64\n",
      "RMSE SVD Model = 0.013679389779858001 \n",
      "\n",
      " * Serving Flask app '__main__'\n",
      " * Debug mode: on\n"
     ]
    },
    {
     "name": "stderr",
     "output_type": "stream",
     "text": [
      "WARNING: This is a development server. Do not use it in a production deployment. Use a production WSGI server instead.\n",
      " * Running on http://127.0.0.1:5000\n",
      "Press CTRL+C to quit\n",
      " * Restarting with stat\n"
     ]
    },
    {
     "ename": "SystemExit",
     "evalue": "1",
     "output_type": "error",
     "traceback": [
      "An exception has occurred, use %tb to see the full traceback.\n",
      "\u001b[1;31mSystemExit\u001b[0m\u001b[1;31m:\u001b[0m 1\n"
     ]
    }
   ],
   "source": [
    "from flask import Flask, jsonify, request\n",
    "from recommendation_logic import recommendations, final_ratings_matrix  # Import the functions from recommendation_logic\n",
    "\n",
    "app = Flask(__name__)\n",
    "\n",
    "@app.route('/recommendations/<user_id>', methods=['GET'])\n",
    "def get_recommendations(user_id):\n",
    "    try:\n",
    "        user_id = int(user_id)  # Ensure the user_id is an integer\n",
    "        top_recommendations = recommendations(user_id, 5, final_ratings_matrix)  # Get top 5 recommendations\n",
    "        return jsonify({\"recommendations\": top_recommendations})\n",
    "    except ValueError:\n",
    "        return jsonify({\"error\": \"Invalid user_id\"}), 400\n",
    "    except Exception as e:\n",
    "        return jsonify({\"error\": str(e)}), 500\n",
    "\n",
    "if __name__ == \"__main__\":\n",
    "    app.run(debug=True)"
   ]
  },
  {
   "cell_type": "code",
   "execution_count": null,
   "id": "8aceb668-5d14-4199-8fa0-4269177d7702",
   "metadata": {},
   "outputs": [],
   "source": []
  }
 ],
 "metadata": {
  "kernelspec": {
   "display_name": "Python 3 (ipykernel)",
   "language": "python",
   "name": "python3"
  },
  "language_info": {
   "codemirror_mode": {
    "name": "ipython",
    "version": 3
   },
   "file_extension": ".py",
   "mimetype": "text/x-python",
   "name": "python",
   "nbconvert_exporter": "python",
   "pygments_lexer": "ipython3",
   "version": "3.12.2"
  }
 },
 "nbformat": 4,
 "nbformat_minor": 5
}
